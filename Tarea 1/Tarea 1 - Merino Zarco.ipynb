{
 "cells": [
  {
   "cell_type": "markdown",
   "id": "b681ac3e",
   "metadata": {},
   "source": [
    "# Tarea 1, Elección Discreta\n",
    "### Juan José Merino Zarco "
   ]
  },
  {
   "cell_type": "markdown",
   "id": "3fb08386",
   "metadata": {},
   "source": [
    "### Pregunta 1 Logit condicional (50 puntos)"
   ]
  },
  {
   "cell_type": "code",
   "execution_count": 146,
   "id": "acf31ae4",
   "metadata": {},
   "outputs": [],
   "source": [
    "# Importar las librerias necesarias\n",
    "import pandas as pd\n",
    "import numpy as np\n",
    "from scipy import optimize\n",
    "from sympy import symbols, Matrix, Transpose\n",
    "from math import e, log, exp\n",
    "from scipy.optimize import minimize\n",
    "import math\n",
    "import numdifftools as nd\n",
    "import os"
   ]
  },
  {
   "cell_type": "code",
   "execution_count": null,
   "id": "0f68fb90",
   "metadata": {},
   "outputs": [],
   "source": [
    "os.chdir(\"D:/Usuario/Desktop/Cuarto Semestre/Elección discreta/Tarea 1\") #Definir carpeta de trabajo"
   ]
  },
  {
   "cell_type": "code",
   "execution_count": 147,
   "id": "a8e62b1f",
   "metadata": {},
   "outputs": [],
   "source": [
    "# Importar la base de datos\n",
    "yogurth = pd.read_csv(\"yogurt.csv\")"
   ]
  },
  {
   "cell_type": "code",
   "execution_count": 148,
   "id": "80d687f8",
   "metadata": {},
   "outputs": [
    {
     "data": {
      "text/html": [
       "<div>\n",
       "<style scoped>\n",
       "    .dataframe tbody tr th:only-of-type {\n",
       "        vertical-align: middle;\n",
       "    }\n",
       "\n",
       "    .dataframe tbody tr th {\n",
       "        vertical-align: top;\n",
       "    }\n",
       "\n",
       "    .dataframe thead th {\n",
       "        text-align: right;\n",
       "    }\n",
       "</style>\n",
       "<table border=\"1\" class=\"dataframe\">\n",
       "  <thead>\n",
       "    <tr style=\"text-align: right;\">\n",
       "      <th></th>\n",
       "      <th>pan.id</th>\n",
       "      <th>expend</th>\n",
       "      <th>income</th>\n",
       "      <th>hhsize</th>\n",
       "      <th>quantity</th>\n",
       "      <th>brand1</th>\n",
       "      <th>brand2</th>\n",
       "      <th>brand3</th>\n",
       "      <th>brand4</th>\n",
       "      <th>feat1</th>\n",
       "      <th>feat2</th>\n",
       "      <th>feat3</th>\n",
       "      <th>feat4</th>\n",
       "      <th>price1</th>\n",
       "      <th>price2</th>\n",
       "      <th>price3</th>\n",
       "      <th>price4</th>\n",
       "      <th>panfirstobs</th>\n",
       "    </tr>\n",
       "  </thead>\n",
       "  <tbody>\n",
       "    <tr>\n",
       "      <th>0</th>\n",
       "      <td>1</td>\n",
       "      <td>40.900002</td>\n",
       "      <td>9</td>\n",
       "      <td>2</td>\n",
       "      <td>2</td>\n",
       "      <td>0</td>\n",
       "      <td>0</td>\n",
       "      <td>0</td>\n",
       "      <td>1</td>\n",
       "      <td>0</td>\n",
       "      <td>0</td>\n",
       "      <td>0</td>\n",
       "      <td>0</td>\n",
       "      <td>0.108</td>\n",
       "      <td>0.081</td>\n",
       "      <td>0.061</td>\n",
       "      <td>0.079</td>\n",
       "      <td>1</td>\n",
       "    </tr>\n",
       "    <tr>\n",
       "      <th>1</th>\n",
       "      <td>1</td>\n",
       "      <td>16.809999</td>\n",
       "      <td>9</td>\n",
       "      <td>2</td>\n",
       "      <td>2</td>\n",
       "      <td>0</td>\n",
       "      <td>1</td>\n",
       "      <td>0</td>\n",
       "      <td>0</td>\n",
       "      <td>0</td>\n",
       "      <td>0</td>\n",
       "      <td>0</td>\n",
       "      <td>0</td>\n",
       "      <td>0.108</td>\n",
       "      <td>0.098</td>\n",
       "      <td>0.064</td>\n",
       "      <td>0.075</td>\n",
       "      <td>0</td>\n",
       "    </tr>\n",
       "    <tr>\n",
       "      <th>2</th>\n",
       "      <td>1</td>\n",
       "      <td>4.060000</td>\n",
       "      <td>9</td>\n",
       "      <td>2</td>\n",
       "      <td>2</td>\n",
       "      <td>0</td>\n",
       "      <td>1</td>\n",
       "      <td>0</td>\n",
       "      <td>0</td>\n",
       "      <td>0</td>\n",
       "      <td>0</td>\n",
       "      <td>0</td>\n",
       "      <td>0</td>\n",
       "      <td>0.108</td>\n",
       "      <td>0.098</td>\n",
       "      <td>0.061</td>\n",
       "      <td>0.086</td>\n",
       "      <td>0</td>\n",
       "    </tr>\n",
       "    <tr>\n",
       "      <th>3</th>\n",
       "      <td>1</td>\n",
       "      <td>34.459999</td>\n",
       "      <td>9</td>\n",
       "      <td>2</td>\n",
       "      <td>2</td>\n",
       "      <td>0</td>\n",
       "      <td>1</td>\n",
       "      <td>0</td>\n",
       "      <td>0</td>\n",
       "      <td>0</td>\n",
       "      <td>0</td>\n",
       "      <td>0</td>\n",
       "      <td>0</td>\n",
       "      <td>0.108</td>\n",
       "      <td>0.098</td>\n",
       "      <td>0.061</td>\n",
       "      <td>0.086</td>\n",
       "      <td>0</td>\n",
       "    </tr>\n",
       "    <tr>\n",
       "      <th>4</th>\n",
       "      <td>1</td>\n",
       "      <td>8.390000</td>\n",
       "      <td>9</td>\n",
       "      <td>2</td>\n",
       "      <td>2</td>\n",
       "      <td>0</td>\n",
       "      <td>1</td>\n",
       "      <td>0</td>\n",
       "      <td>0</td>\n",
       "      <td>0</td>\n",
       "      <td>0</td>\n",
       "      <td>0</td>\n",
       "      <td>0</td>\n",
       "      <td>0.125</td>\n",
       "      <td>0.098</td>\n",
       "      <td>0.049</td>\n",
       "      <td>0.079</td>\n",
       "      <td>0</td>\n",
       "    </tr>\n",
       "  </tbody>\n",
       "</table>\n",
       "</div>"
      ],
      "text/plain": [
       "   pan.id     expend  income  hhsize  quantity  brand1  brand2  brand3  \\\n",
       "0       1  40.900002       9       2         2       0       0       0   \n",
       "1       1  16.809999       9       2         2       0       1       0   \n",
       "2       1   4.060000       9       2         2       0       1       0   \n",
       "3       1  34.459999       9       2         2       0       1       0   \n",
       "4       1   8.390000       9       2         2       0       1       0   \n",
       "\n",
       "   brand4  feat1  feat2  feat3  feat4  price1  price2  price3  price4  \\\n",
       "0       1      0      0      0      0   0.108   0.081   0.061   0.079   \n",
       "1       0      0      0      0      0   0.108   0.098   0.064   0.075   \n",
       "2       0      0      0      0      0   0.108   0.098   0.061   0.086   \n",
       "3       0      0      0      0      0   0.108   0.098   0.061   0.086   \n",
       "4       0      0      0      0      0   0.125   0.098   0.049   0.079   \n",
       "\n",
       "   panfirstobs  \n",
       "0            1  \n",
       "1            0  \n",
       "2            0  \n",
       "3            0  \n",
       "4            0  "
      ]
     },
     "execution_count": 148,
     "metadata": {},
     "output_type": "execute_result"
    }
   ],
   "source": [
    "yogurth.head() #Analizamos las variables de la base de datos"
   ]
  },
  {
   "cell_type": "code",
   "execution_count": 149,
   "id": "1962b3c1",
   "metadata": {},
   "outputs": [],
   "source": [
    "def modelo_yogurth(x):\n",
    "    \"\"\"Logit condicional usando los datos en yogurt.csv.\"\"\"\n",
    "    alph1,alph2,alph3,bp,bf = x\n",
    "    # Valores vacios\n",
    "    num = 0\n",
    "    lden = 0\n",
    "    calc = 0\n",
    "    alph4 = 0\n",
    "    alphas=[alph1, alph2, alph3, alph4]\n",
    "    \n",
    "    for index, row in yogurth.iterrows():\n",
    "        #Numerador (realizamos las operaciones correspondientes para el númerador de la ecuación a maximizar)\n",
    "        for producto in range(4):\n",
    "            num = num + row[5+producto]* (alphas[producto]+ bp*row[13+producto] + bf*row[9+producto])\n",
    "        \n",
    "        \n",
    "        #Denominador (realizamos las operaciones correspondientes para el denominador de la ecuación a maximizar)\n",
    "        den = 0\n",
    "        for producto in range(4):\n",
    "            den = den + e**(alphas[producto]+ bp*row[13+producto] + bf*row[9+producto])\n",
    "       \n",
    "        # Aplicamos el resto de la función, junto a la sumatoria faltante\n",
    "        for producto in range(4):\n",
    "            lden = lden + row[5+producto]* log(den)\n",
    "            \n",
    "    #Realizamos el cálculo de la función que nos dará la ecuación completa y al final se multiplica por -1 para que sea una maximización\n",
    "    calc = calc + (num-lden)\n",
    "    return (calc*-1)"
   ]
  },
  {
   "cell_type": "markdown",
   "id": "e3e6aceb",
   "metadata": {},
   "source": [
    "### Corremos varios modelos para robustez "
   ]
  },
  {
   "cell_type": "code",
   "execution_count": 201,
   "id": "d61009d1",
   "metadata": {},
   "outputs": [
    {
     "data": {
      "text/plain": [
       "      fun: 2658.5567041774857\n",
       " hess_inv: array([[ 1.05164204e-03, -6.08229964e-05, -1.01467086e-03,\n",
       "         2.90953841e-03, -7.27087112e-05],\n",
       "       [-6.08229964e-05,  3.73977543e-03,  1.97541753e-03,\n",
       "         5.41563773e-02,  3.15377610e-03],\n",
       "       [-1.01467086e-03,  1.97541753e-03,  1.15643224e-02,\n",
       "         3.91743576e-02,  2.96343904e-03],\n",
       "       [ 2.90953841e-03,  5.41563773e-02,  3.91743576e-02,\n",
       "         8.44203900e-01,  6.51267223e-02],\n",
       "       [-7.27087112e-05,  3.15377610e-03,  2.96343904e-03,\n",
       "         6.51267223e-02,  1.50519226e-02]])\n",
       "      jac: array([ 0.03225708, -0.02999878,  0.01229858,  0.00531006, -0.00912476])\n",
       "  message: 'Desired error not necessarily achieved due to precision loss.'\n",
       "     nfev: 548\n",
       "      nit: 17\n",
       "     njev: 88\n",
       "   status: 2\n",
       "  success: False\n",
       "        x: array([  1.38799835,   0.64349903,  -3.08611543, -37.06430818,\n",
       "         0.48720204])"
      ]
     },
     "execution_count": 201,
     "metadata": {},
     "output_type": "execute_result"
    }
   ],
   "source": [
    "#Corremos el modelo con el método de optimización BFGS\n",
    "x0 = [1,1,1,1,1]\n",
    "optimize.minimize(modelo_yogurth, x0, method = \"BFGS\") "
   ]
  },
  {
   "cell_type": "code",
   "execution_count": 197,
   "id": "fc64df0a",
   "metadata": {},
   "outputs": [
    {
     "data": {
      "text/plain": [
       " final_simplex: (array([[  1.38775366,   0.64350447,  -3.08611826, -37.05796121,\n",
       "          0.48741018],\n",
       "       [  1.387753  ,   0.64350375,  -3.08611516, -37.05789162,\n",
       "          0.48741456],\n",
       "       [  1.38775643,   0.64350576,  -3.08611752, -37.05801966,\n",
       "          0.48741336],\n",
       "       [  1.38775658,   0.64350536,  -3.08611639, -37.05800015,\n",
       "          0.48741039],\n",
       "       [  1.3877559 ,   0.64350585,  -3.08611892, -37.05795726,\n",
       "          0.48741329],\n",
       "       [  1.38775498,   0.6435039 ,  -3.08612291, -37.05804902,\n",
       "          0.48741465]]), array([2658.55669751, 2658.55669751, 2658.55669751, 2658.55669751,\n",
       "       2658.55669751, 2658.55669751]))\n",
       "           fun: 2658.5566975057964\n",
       "       message: 'Optimization terminated successfully.'\n",
       "          nfev: 544\n",
       "           nit: 340\n",
       "        status: 0\n",
       "       success: True\n",
       "             x: array([  1.38775366,   0.64350447,  -3.08611826, -37.05796121,\n",
       "         0.48741018])"
      ]
     },
     "execution_count": 197,
     "metadata": {},
     "output_type": "execute_result"
    }
   ],
   "source": [
    "#Corremos el modelo con el método de optimización Nelder Mead\n",
    "x0 = [1,1,1,1,1]\n",
    "optimize.minimize(modelo_yogurth, x0, method = \"Nelder-Mead\") "
   ]
  },
  {
   "cell_type": "code",
   "execution_count": 198,
   "id": "8558e624",
   "metadata": {},
   "outputs": [
    {
     "data": {
      "text/plain": [
       "      fun: 2658.5567395838625\n",
       " hess_inv: <5x5 LbfgsInvHessProduct with dtype=float64>\n",
       "      jac: array([-0.00982254,  0.00645741, -0.00140972,  0.01550688, -0.00623004])\n",
       "  message: 'CONVERGENCE: REL_REDUCTION_OF_F_<=_FACTR*EPSMCH'\n",
       "     nfev: 246\n",
       "      nit: 26\n",
       "     njev: 41\n",
       "   status: 0\n",
       "  success: True\n",
       "        x: array([  1.38709327,   0.64342412,  -3.08555182, -37.03610981,\n",
       "         0.48754416])"
      ]
     },
     "execution_count": 198,
     "metadata": {},
     "output_type": "execute_result"
    }
   ],
   "source": [
    "#Corremos el modelo con el método de optimización L-BFGS-B\n",
    "x0 = [1,1,1,1,1]\n",
    "optimize.minimize(modelo_yogurth, x0, method = \"L-BFGS-B\") "
   ]
  },
  {
   "cell_type": "markdown",
   "id": "6c7c6fb5",
   "metadata": {},
   "source": [
    "### Modelo final (método BFGS)"
   ]
  },
  {
   "cell_type": "code",
   "execution_count": 173,
   "id": "df3bc059",
   "metadata": {},
   "outputs": [],
   "source": [
    "x0 = [1,1,1,1,1]  #Establecemos el punto inicial para la optimización\n",
    "modelo = optimize.minimize(modelo_yogurth, x0, method = \"Nelder-Mead\")  #Terminación exitosa"
   ]
  },
  {
   "cell_type": "code",
   "execution_count": 175,
   "id": "ee3cd566",
   "metadata": {},
   "outputs": [
    {
     "data": {
      "text/plain": [
       "array([  1.38799835,   0.64349903,  -3.08611543, -37.06430818,\n",
       "         0.48720204])"
      ]
     },
     "execution_count": 175,
     "metadata": {},
     "output_type": "execute_result"
    }
   ],
   "source": [
    "# Obtenemos los coeficientes estimados \n",
    "betas_hat = modelo[\"x\"]\n",
    "betas_hat"
   ]
  },
  {
   "cell_type": "code",
   "execution_count": 176,
   "id": "d0778b4c",
   "metadata": {},
   "outputs": [
    {
     "data": {
      "text/plain": [
       "array([[ 1.05164204e-03, -6.08229964e-05, -1.01467086e-03,\n",
       "         2.90953841e-03, -7.27087112e-05],\n",
       "       [-6.08229964e-05,  3.73977543e-03,  1.97541753e-03,\n",
       "         5.41563773e-02,  3.15377610e-03],\n",
       "       [-1.01467086e-03,  1.97541753e-03,  1.15643224e-02,\n",
       "         3.91743576e-02,  2.96343904e-03],\n",
       "       [ 2.90953841e-03,  5.41563773e-02,  3.91743576e-02,\n",
       "         8.44203900e-01,  6.51267223e-02],\n",
       "       [-7.27087112e-05,  3.15377610e-03,  2.96343904e-03,\n",
       "         6.51267223e-02,  1.50519226e-02]])"
      ]
     },
     "execution_count": 176,
     "metadata": {},
     "output_type": "execute_result"
    }
   ],
   "source": [
    "# Errores estándar\n",
    "# Iniciamos un proceso de varios pasos en código para obtener los errores estándar de los estimadores \n",
    "hessiano_inv = modelo[\"hess_inv\"]  #Obtenemos la inversa del Hessiano evaluado en el óptimo. Esto es dado por la optimización.\n",
    "hessiano_inv"
   ]
  },
  {
   "cell_type": "code",
   "execution_count": 177,
   "id": "a891673f",
   "metadata": {},
   "outputs": [
    {
     "data": {
      "text/plain": [
       "array([[ 697629.37221544, 1826101.31089503,  184279.95423627,\n",
       "        -144167.80033842,  208257.97719531],\n",
       "       [1826101.31089501, 4787620.51721891,  482794.55368633,\n",
       "        -377942.09821352,  545916.18547406],\n",
       "       [ 184279.95423626,  482794.55368633,   48804.27082623,\n",
       "         -38118.83378169,   55056.02688032],\n",
       "       [-144167.80033842, -377942.09821352,  -38118.83378169,\n",
       "          29837.47313902,  -43103.56249922],\n",
       "       [ 208257.97719531,  545916.18547407,   55056.02688032,\n",
       "         -43103.56249922,   62349.73051413]])"
      ]
     },
     "execution_count": 177,
     "metadata": {},
     "output_type": "execute_result"
    }
   ],
   "source": [
    "hessiano = np.linalg.inv(hessiano_inv)  #Sacamos la inversa del hessiano inverso para tener el hessiano original\n",
    "hessiano"
   ]
  },
  {
   "cell_type": "code",
   "execution_count": 178,
   "id": "198fe3eb",
   "metadata": {},
   "outputs": [
    {
     "data": {
      "text/plain": [
       "array([[ -287.09027663,  -751.48202094,   -75.83537211,    59.3283129 ,\n",
       "          -85.70287127],\n",
       "       [ -751.48202094, -1970.21420462,  -198.68088629,   155.53172766,\n",
       "         -224.65686645],\n",
       "       [  -75.83537211,  -198.68088629,   -20.08406207,    15.68676287,\n",
       "          -22.65680119],\n",
       "       [   59.3283129 ,   155.53172766,    15.68676287,   -12.27879553,\n",
       "           17.73809156],\n",
       "       [  -85.70287127,  -224.65686645,   -22.65680119,    17.73809156,\n",
       "          -25.65832531]])"
      ]
     },
     "execution_count": 178,
     "metadata": {},
     "output_type": "execute_result"
    }
   ],
   "source": [
    "I =  np.dot((-1/2430), hessiano) #Hacemos operaciones para obtener el valor I y posteriormente la matriz de varianzas y covarianzas\n",
    "I"
   ]
  },
  {
   "cell_type": "code",
   "execution_count": 179,
   "id": "3abf02ad",
   "metadata": {},
   "outputs": [
    {
     "data": {
      "text/plain": [
       "array([[ 2.55549016e+00, -1.47799881e-01, -2.46565020e+00,\n",
       "         7.07017835e+00, -1.76682168e-01],\n",
       "       [-1.47799881e-01,  9.08765430e+00,  4.80026459e+00,\n",
       "         1.31599997e+02,  7.66367592e+00],\n",
       "       [-2.46565020e+00,  4.80026459e+00,  2.81013034e+01,\n",
       "         9.51936889e+01,  7.20115687e+00],\n",
       "       [ 7.07017834e+00,  1.31599997e+02,  9.51936889e+01,\n",
       "         2.05141548e+03,  1.58257935e+02],\n",
       "       [-1.76682168e-01,  7.66367592e+00,  7.20115687e+00,\n",
       "         1.58257935e+02,  3.65761718e+01]])"
      ]
     },
     "execution_count": 179,
     "metadata": {},
     "output_type": "execute_result"
    }
   ],
   "source": [
    "mat_var_cov = np.linalg.inv(I)  #Aplicamos la matriz inversa a I y así obtenemos la matriz de varianzas y covarianzas\n",
    "mat_var_cov = np.dot(-1,mat_var_cov)  #Multiplicamos por -1 dado que la función original la habíamos multiplicado por -1.\n",
    "mat_var_cov"
   ]
  },
  {
   "cell_type": "code",
   "execution_count": 180,
   "id": "aefdb722",
   "metadata": {},
   "outputs": [
    {
     "data": {
      "text/plain": [
       "(5, 5)"
      ]
     },
     "execution_count": 180,
     "metadata": {},
     "output_type": "execute_result"
    }
   ],
   "source": [
    "np.shape(mat_var_cov)"
   ]
  },
  {
   "cell_type": "code",
   "execution_count": 181,
   "id": "ed9a332f",
   "metadata": {},
   "outputs": [
    {
     "name": "stdout",
     "output_type": "stream",
     "text": [
      "0.03242903082124185\n",
      "0.06115370333979283\n",
      "0.1075375394208378\n",
      "0.9188056923352057\n",
      "0.12268627701363234\n"
     ]
    }
   ],
   "source": [
    "# Errores estándar en orden (alpha1, alpha2, alpha3, beta_price, beta_feat)\n",
    "for i in range(5):\n",
    "    e_e = (math.sqrt(mat_var_cov[i,i]))  / (math.sqrt(2430))\n",
    "    print(e_e) \n"
   ]
  },
  {
   "cell_type": "code",
   "execution_count": 183,
   "id": "4971f21e",
   "metadata": {},
   "outputs": [
    {
     "data": {
      "text/plain": [
       "-2658.5567041774857"
      ]
     },
     "execution_count": 183,
     "metadata": {},
     "output_type": "execute_result"
    }
   ],
   "source": [
    "# Valor de la máxima verosimilitud \n",
    "mv_betas = - modelo_yogurth(modelo[\"x\"])\n",
    "mv_betas"
   ]
  },
  {
   "cell_type": "code",
   "execution_count": 184,
   "id": "2a6ed2d9",
   "metadata": {},
   "outputs": [
    {
     "data": {
      "text/plain": [
       "-3368.6952975211507"
      ]
     },
     "execution_count": 184,
     "metadata": {},
     "output_type": "execute_result"
    }
   ],
   "source": [
    "# Valor para las coeficientes en cero \n",
    "mv_ceros = - modelo_yogurth((0,0,0,0,0))\n",
    "mv_ceros"
   ]
  },
  {
   "cell_type": "code",
   "execution_count": 185,
   "id": "19446f19",
   "metadata": {},
   "outputs": [
    {
     "data": {
      "text/plain": [
       "0.2108052318849435"
      ]
     },
     "execution_count": 185,
     "metadata": {},
     "output_type": "execute_result"
    }
   ],
   "source": [
    "# Índice de razón de verosimilitud \n",
    "razon_vero = 1 - (mv_betas / mv_ceros)    \n",
    "razon_vero"
   ]
  },
  {
   "cell_type": "code",
   "execution_count": 186,
   "id": "17dd8635",
   "metadata": {},
   "outputs": [
    {
     "data": {
      "text/plain": [
       "5327.113408354971"
      ]
     },
     "execution_count": 186,
     "metadata": {},
     "output_type": "execute_result"
    }
   ],
   "source": [
    "# Criterior de información de Akaike (AIC) \n",
    "aic = (-2 * mv_betas) + (2*5)     #5 parametros \n",
    "aic\n"
   ]
  },
  {
   "cell_type": "code",
   "execution_count": 7,
   "id": "1548285f",
   "metadata": {},
   "outputs": [
    {
     "data": {
      "text/html": [
       "<div>\n",
       "<style scoped>\n",
       "    .dataframe tbody tr th:only-of-type {\n",
       "        vertical-align: middle;\n",
       "    }\n",
       "\n",
       "    .dataframe tbody tr th {\n",
       "        vertical-align: top;\n",
       "    }\n",
       "\n",
       "    .dataframe thead th {\n",
       "        text-align: right;\n",
       "    }\n",
       "</style>\n",
       "<table border=\"1\" class=\"dataframe\">\n",
       "  <thead>\n",
       "    <tr style=\"text-align: right;\">\n",
       "      <th></th>\n",
       "      <th>pan.id</th>\n",
       "      <th>expend</th>\n",
       "      <th>income</th>\n",
       "      <th>hhsize</th>\n",
       "      <th>quantity</th>\n",
       "      <th>brand1</th>\n",
       "      <th>brand2</th>\n",
       "      <th>brand3</th>\n",
       "      <th>brand4</th>\n",
       "      <th>feat1</th>\n",
       "      <th>feat2</th>\n",
       "      <th>feat3</th>\n",
       "      <th>feat4</th>\n",
       "      <th>price1</th>\n",
       "      <th>price2</th>\n",
       "      <th>price3</th>\n",
       "      <th>price4</th>\n",
       "      <th>panfirstobs</th>\n",
       "    </tr>\n",
       "  </thead>\n",
       "  <tbody>\n",
       "    <tr>\n",
       "      <th>0</th>\n",
       "      <td>1</td>\n",
       "      <td>40.900002</td>\n",
       "      <td>9</td>\n",
       "      <td>2</td>\n",
       "      <td>2</td>\n",
       "      <td>0</td>\n",
       "      <td>0</td>\n",
       "      <td>0</td>\n",
       "      <td>1</td>\n",
       "      <td>0</td>\n",
       "      <td>0</td>\n",
       "      <td>0</td>\n",
       "      <td>0</td>\n",
       "      <td>0.108</td>\n",
       "      <td>0.081</td>\n",
       "      <td>0.061</td>\n",
       "      <td>0.079</td>\n",
       "      <td>1</td>\n",
       "    </tr>\n",
       "    <tr>\n",
       "      <th>1</th>\n",
       "      <td>1</td>\n",
       "      <td>16.809999</td>\n",
       "      <td>9</td>\n",
       "      <td>2</td>\n",
       "      <td>2</td>\n",
       "      <td>0</td>\n",
       "      <td>1</td>\n",
       "      <td>0</td>\n",
       "      <td>0</td>\n",
       "      <td>0</td>\n",
       "      <td>0</td>\n",
       "      <td>0</td>\n",
       "      <td>0</td>\n",
       "      <td>0.108</td>\n",
       "      <td>0.098</td>\n",
       "      <td>0.064</td>\n",
       "      <td>0.075</td>\n",
       "      <td>0</td>\n",
       "    </tr>\n",
       "    <tr>\n",
       "      <th>2</th>\n",
       "      <td>1</td>\n",
       "      <td>4.060000</td>\n",
       "      <td>9</td>\n",
       "      <td>2</td>\n",
       "      <td>2</td>\n",
       "      <td>0</td>\n",
       "      <td>1</td>\n",
       "      <td>0</td>\n",
       "      <td>0</td>\n",
       "      <td>0</td>\n",
       "      <td>0</td>\n",
       "      <td>0</td>\n",
       "      <td>0</td>\n",
       "      <td>0.108</td>\n",
       "      <td>0.098</td>\n",
       "      <td>0.061</td>\n",
       "      <td>0.086</td>\n",
       "      <td>0</td>\n",
       "    </tr>\n",
       "    <tr>\n",
       "      <th>3</th>\n",
       "      <td>1</td>\n",
       "      <td>34.459999</td>\n",
       "      <td>9</td>\n",
       "      <td>2</td>\n",
       "      <td>2</td>\n",
       "      <td>0</td>\n",
       "      <td>1</td>\n",
       "      <td>0</td>\n",
       "      <td>0</td>\n",
       "      <td>0</td>\n",
       "      <td>0</td>\n",
       "      <td>0</td>\n",
       "      <td>0</td>\n",
       "      <td>0.108</td>\n",
       "      <td>0.098</td>\n",
       "      <td>0.061</td>\n",
       "      <td>0.086</td>\n",
       "      <td>0</td>\n",
       "    </tr>\n",
       "    <tr>\n",
       "      <th>4</th>\n",
       "      <td>1</td>\n",
       "      <td>8.390000</td>\n",
       "      <td>9</td>\n",
       "      <td>2</td>\n",
       "      <td>2</td>\n",
       "      <td>0</td>\n",
       "      <td>1</td>\n",
       "      <td>0</td>\n",
       "      <td>0</td>\n",
       "      <td>0</td>\n",
       "      <td>0</td>\n",
       "      <td>0</td>\n",
       "      <td>0</td>\n",
       "      <td>0.125</td>\n",
       "      <td>0.098</td>\n",
       "      <td>0.049</td>\n",
       "      <td>0.079</td>\n",
       "      <td>0</td>\n",
       "    </tr>\n",
       "  </tbody>\n",
       "</table>\n",
       "</div>"
      ],
      "text/plain": [
       "   pan.id     expend  income  hhsize  quantity  brand1  brand2  brand3  \\\n",
       "0       1  40.900002       9       2         2       0       0       0   \n",
       "1       1  16.809999       9       2         2       0       1       0   \n",
       "2       1   4.060000       9       2         2       0       1       0   \n",
       "3       1  34.459999       9       2         2       0       1       0   \n",
       "4       1   8.390000       9       2         2       0       1       0   \n",
       "\n",
       "   brand4  feat1  feat2  feat3  feat4  price1  price2  price3  price4  \\\n",
       "0       1      0      0      0      0   0.108   0.081   0.061   0.079   \n",
       "1       0      0      0      0      0   0.108   0.098   0.064   0.075   \n",
       "2       0      0      0      0      0   0.108   0.098   0.061   0.086   \n",
       "3       0      0      0      0      0   0.108   0.098   0.061   0.086   \n",
       "4       0      0      0      0      0   0.125   0.098   0.049   0.079   \n",
       "\n",
       "   panfirstobs  \n",
       "0            1  \n",
       "1            0  \n",
       "2            0  \n",
       "3            0  \n",
       "4            0  "
      ]
     },
     "execution_count": 7,
     "metadata": {},
     "output_type": "execute_result"
    }
   ],
   "source": [
    "# Elasticidades \n",
    "yogurth.head()"
   ]
  },
  {
   "cell_type": "code",
   "execution_count": 187,
   "id": "ce3238e3",
   "metadata": {},
   "outputs": [],
   "source": [
    "def probabilidad_eles(dataframe):\n",
    "    \"\"\"Logit condicional usando los datos en yogurt.csv.\"\"\"\n",
    "    # Importar la base de datos\n",
    "    moi = pd.read_csv(dataframe)\n",
    "    #Parametros\n",
    "    # alph1,alph2,alph3,bp,bf = x\n",
    "    #Evaluando los parametros en el optimo\n",
    "    alph1 = 1.38796\n",
    "    alph2 = 0.643527\n",
    "    alph3 = -3.086088\n",
    "    alph4 = 0\n",
    "    bp    = -37.0679\n",
    "    bf    = 0.4876 \n",
    "    # Valores vacios\n",
    "    num = 0\n",
    "    lden = 0\n",
    "    calc = 0\n",
    "    conca1, conca2, conca3, conca4= [],[],[],[]\n",
    "    alphas=[alph1, alph2, alph3, alph4]\n",
    "    for index, row in moi.iterrows():\n",
    "\n",
    "        #Denominador\n",
    "        den = 0\n",
    "        for producto in range(4):\n",
    "            den += exp(alphas[producto]+ bp*row[13+producto] + bf*row[9+producto])\n",
    "       \n",
    "        # Probabilidad\n",
    "        proby1 = 0\n",
    "        proby2 = 0\n",
    "        proby3 = 0\n",
    "        proby4 = 0\n",
    "        for producto in range(4):\n",
    "            \n",
    "            num = exp(alphas[producto]+ bp*row[13+producto] + bf*row[9+producto])  #Numerador de la ecuación\n",
    "            \n",
    "            if producto == 0:         #Creamos 4 columnas (variables) a partir de una condición para cada probabilidad de cada producto\n",
    "                proby1 += (num)/den\n",
    "     \n",
    "            elif producto == 1:\n",
    "                proby2 += (num)/den\n",
    "     \n",
    "            elif producto == 2:\n",
    "                proby3 += (num)/den\n",
    "       \n",
    "            else:\n",
    "                proby4 += (num)/den\n",
    "    \n",
    "                     \n",
    "        conca1.append(proby1)   #Con este codigo logramos generar las columnas finales de cada probabilidad de cada producto\n",
    "        conca2.append(proby2)\n",
    "        conca3.append(proby3)\n",
    "        conca4.append(proby4)\n",
    "        \n",
    "    base = pd.concat([moi,pd.DataFrame(conca1)],axis=1)   #Unimos cada columna en un solo dataframe\n",
    "    base.rename({0: 'proba1'}, axis=1, inplace=True)\n",
    "    base = pd.concat([base,pd.DataFrame(conca2)],axis=1)\n",
    "    base.rename({0: 'proba2'}, axis=1, inplace=True)\n",
    "    base = pd.concat([base,pd.DataFrame(conca3)],axis=1)\n",
    "    base.rename({0: 'proba3'}, axis=1, inplace=True)\n",
    "    base = pd.concat([base,pd.DataFrame(conca4)],axis=1)\n",
    "    base.rename({0: 'proba4'}, axis=1, inplace=True)\n",
    "    \n",
    "    \n",
    "    #Calculo\n",
    "    return base #La función devuelve la base final con las 4 columnas de probabilidad "
   ]
  },
  {
   "cell_type": "code",
   "execution_count": 190,
   "id": "26d62558",
   "metadata": {},
   "outputs": [],
   "source": [
    "elas = probabilidad_eles(\"yogurt.csv\")  #Generamos un dataframe uniendo a yogurth con las columnas de probabilidad"
   ]
  },
  {
   "cell_type": "code",
   "execution_count": 191,
   "id": "876e8412",
   "metadata": {},
   "outputs": [],
   "source": [
    "elas.insert(22, \"Bz\", -37.0679, allow_duplicates=False)   #Creamos una columna con el valor estimado de beta_price (esta es la derivada)"
   ]
  },
  {
   "cell_type": "code",
   "execution_count": 192,
   "id": "1da43113",
   "metadata": {},
   "outputs": [],
   "source": [
    "##Los valores de la probabilidad, los precios y la beta_price los cambiamos a formato float\n",
    "elas[\"proba1\"] = elas[\"proba1\"].astype(float, errors = 'raise')\n",
    "elas[\"proba2\"] = elas[\"proba2\"].astype(float, errors = 'raise')\n",
    "elas[\"proba3\"] = elas[\"proba3\"].astype(float, errors = 'raise')\n",
    "elas[\"proba4\"] = elas[\"proba4\"].astype(float, errors = 'raise')\n",
    "elas[\"Bz\"] = elas[\"Bz\"].astype(float, errors = 'raise')\n",
    "elas[\"price1\"] = elas[\"price1\"].astype(float, errors = 'raise')\n",
    "elas[\"price2\"] = elas[\"price2\"].astype(float, errors = 'raise')\n",
    "elas[\"price3\"] = elas[\"price3\"].astype(float, errors = 'raise')\n",
    "elas[\"price4\"] = elas[\"price4\"].astype(float, errors = 'raise')"
   ]
  },
  {
   "cell_type": "code",
   "execution_count": 193,
   "id": "c2fa57d9",
   "metadata": {},
   "outputs": [],
   "source": [
    "# Elasticidades propias\n",
    "# Procedemos a calcular las elasticidades propias creando 4 columnas por cada elasticidad para todas las filas\n",
    "elas[\"elas_prop1\"] = elas[\"Bz\"] * elas[\"price1\"] * (1-elas[\"proba1\"])\n",
    "elas[\"elas_prop2\"] = elas[\"Bz\"] * elas[\"price2\"] * (1-elas[\"proba2\"])\n",
    "elas[\"elas_prop3\"] = elas[\"Bz\"] * elas[\"price3\"] * (1-elas[\"proba3\"])\n",
    "elas[\"elas_prop4\"] = elas[\"Bz\"] * elas[\"price4\"] * (1-elas[\"proba4\"])"
   ]
  },
  {
   "cell_type": "code",
   "execution_count": 194,
   "id": "f6daf17f",
   "metadata": {},
   "outputs": [
    {
     "name": "stdout",
     "output_type": "stream",
     "text": [
      "-2.7018539273468907 -1.8449276745364236 -1.9335257784215978 -2.2883520840465748\n"
     ]
    }
   ],
   "source": [
    "# Elasticidades propias\n",
    "# Procedemos a calcular la media de cada elasticidad (columnas creadas anteriormente) y así tener la elasticidad promedio final.\n",
    "mean_elas_prop1 = elas[\"elas_prop1\"].mean()\n",
    "mean_elas_prop2 = elas[\"elas_prop2\"].mean()\n",
    "mean_elas_prop3 = elas[\"elas_prop3\"].mean()\n",
    "mean_elas_prop4 = elas[\"elas_prop4\"].mean()\n",
    "print(mean_elas_prop1, mean_elas_prop2,mean_elas_prop3,mean_elas_prop4)"
   ]
  },
  {
   "cell_type": "code",
   "execution_count": 195,
   "id": "f6ac771f",
   "metadata": {},
   "outputs": [],
   "source": [
    "# Elasticidades cruzadas\n",
    "# Procedemos a calcular las elasticidades cruzadas creando 4 columnas por cada elasticidad para todas las filas\n",
    "elas[\"elas_cru21\"] = elas[\"Bz\"] * elas[\"price1\"] * (-elas[\"proba1\"])\n",
    "elas[\"elas_cru12\"] = elas[\"Bz\"] * elas[\"price2\"] * (-elas[\"proba2\"])\n",
    "elas[\"elas_cru13\"] = elas[\"Bz\"] * elas[\"price3\"] * (-elas[\"proba3\"])\n",
    "elas[\"elas_cru14\"] = elas[\"Bz\"] * elas[\"price4\"] * (-elas[\"proba4\"])"
   ]
  },
  {
   "cell_type": "code",
   "execution_count": 196,
   "id": "112dc373",
   "metadata": {},
   "outputs": [
    {
     "name": "stdout",
     "output_type": "stream",
     "text": [
      "1.2365265439885769 1.1772807967618553 0.05412215776737161 0.6588206521043347\n"
     ]
    }
   ],
   "source": [
    "# Elasticidades cruzadas\n",
    "# Procedemos a calcular la media de cada elasticidad (columnas creadas anteriormente) y así tener la elasticidad promedio final.\n",
    "mean_elas_cru1 = elas[\"elas_cru21\"].mean()\n",
    "mean_elas_cru2 = elas[\"elas_cru12\"].mean()\n",
    "mean_elas_cru3 = elas[\"elas_cru13\"].mean()\n",
    "mean_elas_cru4 = elas[\"elas_cru14\"].mean()\n",
    "print(mean_elas_cru1, mean_elas_cru2,mean_elas_cru3,mean_elas_cru4)"
   ]
  },
  {
   "cell_type": "markdown",
   "id": "ed175aad",
   "metadata": {},
   "source": [
    "## Pregunta 2: Fake data (50 puntos)"
   ]
  },
  {
   "cell_type": "code",
   "execution_count": 202,
   "id": "51c2b921",
   "metadata": {},
   "outputs": [],
   "source": [
    "import pandas as pd\n",
    "import numpy as np\n",
    "import random\n",
    "from scipy import optimize, stats\n",
    "from math import e, log,exp\n",
    "import math as mt\n",
    "import matplotlib.pyplot as plt \n",
    "from scipy.stats import bernoulli"
   ]
  },
  {
   "cell_type": "markdown",
   "id": "9f9b86f9",
   "metadata": {},
   "source": [
    "### 1. Generación de 100 bases de datos con 5000 observaciones cada una \n",
    "\n",
    "Se generaran datos pseudo-aleatorios , empleando una distribución de Bernoulli para construir la característica \"feat\", una distribución log-normal para los precios de  los 4 productos para las N observaciones."
   ]
  },
  {
   "cell_type": "code",
   "execution_count": 209,
   "id": "fc8ba69f",
   "metadata": {},
   "outputs": [],
   "source": [
    "    \"\"\"Creación de las bases de datos\"\"\"\n",
    "    # Parametros de la función\n",
    "    ## N = Número de datos, ##J= Número de bases\n",
    "    N=5000\n",
    "    J=100\n",
    "    # Precios promedio\n",
    "    yogurt = pd.read_csv(\"yogurt.csv\")\n",
    "    precios = yogurt[['price1', 'price2', 'price3', 'price4']]\n",
    "    precios_promedio = list(precios.mean())\n",
    "    \n",
    "    # Valores de los parámetros\n",
    "    beta_p_s=np.array([1,-1,0.5,0,-20,2])\n",
    "\n",
    "    #  Valores vacios\n",
    "    base_precios = pd.DataFrame(np.nan, index = range(N), columns = ['price1', 'price2', 'price3', 'price4'])\n",
    "    atributos = pd.DataFrame(np.nan, index = range(N), columns = ['feat1', 'feat2', 'feat3', 'feat4'])\n",
    "    dict_data_frames = {}\n",
    "\n",
    "    # Creación de las bases\n",
    "    bases = [str(\"base\") + str(x) for x in range(J)]\n",
    "\n",
    "    # Generar las características en cada base\n",
    "    for base in bases:\n",
    "        for j in range(4): \n",
    "            base_precios.iloc[:,j] = np.random.lognormal(precios_promedio[j],0.6,N)\n",
    "            atributos.iloc[:,j] = bernoulli.rvs(size = N,p = 0.5)\n",
    "            df = pd.concat([base_precios,atributos], axis=1)\n",
    "\n",
    "        dict_data_frames[base] = df \n",
    "\n",
    "\n",
    "    # Loop para simular la elección de los consumidores\n",
    "    for base in bases:\n",
    "\n",
    "        ele1,ele2,ele3,ele4 = [],[],[],[]\n",
    "\n",
    "        for index, row in dict_data_frames[base].iterrows():\n",
    "            s_1 = np.array([1,0,0,0,row[0],row[4]])\n",
    "            s_2 = np.array([0,1,0,0,row[1],row[5]])\n",
    "            s_3 = np.array([0,0,1,0,row[2],row[6]])\n",
    "            s_4 = np.array([0,0,0,1,row[3],row[7]])\n",
    "\n",
    "            for i in [1,2,3,4]: \n",
    "                globals()['exp_%s' %i] = mt.exp(np.dot(globals()['s_%s' %i],beta_p_s))    #iterar por nombres\n",
    "\n",
    "            total_exp = exp_1+exp_2+exp_3+exp_4\n",
    "\n",
    "            for j in [1,2,3,4]:\n",
    "                globals()['prob_%s' %j] = (globals()['exp_%s' %j]) / (total_exp)\n",
    "\n",
    "            eleccion=np.random.choice((1,2,3,4),p=[prob_1,prob_2,prob_3,prob_4])\n",
    "\n",
    "            if eleccion==1:\n",
    "                ele1.append(1)\n",
    "                ele2.append(0)\n",
    "                ele3.append(0)\n",
    "                ele4.append(0)\n",
    "\n",
    "            elif eleccion==2:\n",
    "                ele1.append(0)\n",
    "                ele2.append(1)\n",
    "                ele3.append(0)\n",
    "                ele4.append(0)\n",
    "            elif eleccion==3:\n",
    "                ele1.append(0)\n",
    "                ele2.append(0)\n",
    "                ele3.append(1)\n",
    "                ele4.append(0)\n",
    "            else:\n",
    "                ele1.append(0)\n",
    "                ele2.append(0)\n",
    "                ele3.append(0)\n",
    "                ele4.append(1)\n",
    "\n",
    "        dict_data_frames[base][\"brand1\"]=ele1 \n",
    "        dict_data_frames[base][\"brand2\"]=ele2\n",
    "        dict_data_frames[base][\"brand3\"]=ele3  \n",
    "        dict_data_frames[base][\"brand4\"]=ele4 \n",
    "        \n",
    "    # Guardo el diccionario de todas las bases de datos utilizado en un objeto\n",
    "    \n",
    "    fin = dict_data_frames\n",
    "              \n"
   ]
  },
  {
   "cell_type": "markdown",
   "id": "7e66f116",
   "metadata": {},
   "source": [
    "Procedemos a incorporar las bases de datos simuladas en la función para evaluar el modelo de logit condicional"
   ]
  },
  {
   "cell_type": "code",
   "execution_count": 210,
   "id": "b9f33eb3",
   "metadata": {},
   "outputs": [],
   "source": [
    "def modelo_yogurth_MC(x,diccionario,base_de_datos):\n",
    "    \"\"\"Logit condicional usando los datos de la base proxy\"\"\"\n",
    "    #Parametros desconocidos\n",
    "    [alph1,alph2,alph3,bp,bf] = x \n",
    "    #Normalizar \\alpha_{4} = 0\n",
    "    alph4 = 0\n",
    "    # Valores vacios\n",
    "    lden = 0\n",
    "    # Importar la base de datos\n",
    "    # diccionario = el diccionario que contiene las 100 bases\n",
    "    # base_de_datos = base contenia en el diccionario\n",
    "    dict_data_frames = diccionario\n",
    "    data = dict_data_frames[base_de_datos]\n",
    "    # Variables para cada producto\n",
    "    alphas =[alph1,alph2,alph3,alph4] \n",
    "    precios = [\"price1\",\"price2\",\"price3\",\"price4\"]\n",
    "    Yin = [\"brand1\",\"brand2\",\"brand3\",\"brand4\"]\n",
    "    feat = [\"feat1\",\"feat2\",\"feat3\",\"feat4\"]\n",
    "    \n",
    "    for index, row in data.iterrows():\n",
    "\n",
    "        #Denominador\n",
    "        den = 0\n",
    "        for producto in range(4):\n",
    "            den += exp(alphas[producto]+ bp*row[precios[producto]] + bf*row[feat[producto]])\n",
    "       \n",
    "        # Logaritmo natual de la suma\n",
    "        for producto in range(4):\n",
    "            if den == 0:\n",
    "                continue\n",
    "            else:\n",
    "                #Numerador\n",
    "                lden += row[Yin[producto]]* log(exp(alphas[producto]+ bp*row[precios[producto]] + bf*row[feat[producto]])/den)\n",
    "                moly = -lden\n",
    "    return moly"
   ]
  },
  {
   "cell_type": "markdown",
   "id": "fb4c99be",
   "metadata": {},
   "source": [
    "Ahora, vamos a realizar la optimizacion para las 100 bases de datos mediante la siguiente función"
   ]
  },
  {
   "cell_type": "code",
   "execution_count": 211,
   "id": "11a8671a",
   "metadata": {},
   "outputs": [],
   "source": [
    "def Monte_carlo():\n",
    "    conca = pd.DataFrame()\n",
    "    for index, (key, value) in enumerate(dict_data_frames.items()):\n",
    "        print(index) # Control de tiempo\n",
    "        result = optimize.minimize(modelo_yogurth_MC, x0=[0,0,0,0,0],args=(fin,key))\n",
    "        conca = pd.concat([conca,pd.DataFrame(result.x)],axis=1)\n",
    "    conca = pd.DataFrame.transpose(conca)   \n",
    "    conca.rename({0: 'alph1',1: 'alph2',2: 'alph3',3: 'bp',4: 'bf'}, axis=1, inplace=True)\n",
    "    conca[\"alph4\"] = 0\n",
    "    conca.reset_index(drop=True, inplace=True)\n",
    "    return conca"
   ]
  },
  {
   "cell_type": "markdown",
   "id": "324556f9",
   "metadata": {},
   "source": [
    "Se guardan los resultados en un archivo csv para la posterior utilización de los datos"
   ]
  },
  {
   "cell_type": "code",
   "execution_count": null,
   "id": "483bc618",
   "metadata": {},
   "outputs": [],
   "source": [
    "MC_save = pd.DataFrame(Monte_carlo())\n",
    "MC_save.to_csv(\"MC_save.csv\")"
   ]
  },
  {
   "cell_type": "markdown",
   "id": "2999ec75",
   "metadata": {},
   "source": [
    "### Mediana de los estimadores para cada uno de los 5 coeficientes."
   ]
  },
  {
   "cell_type": "code",
   "execution_count": 212,
   "id": "0d41bf0e",
   "metadata": {},
   "outputs": [
    {
     "name": "stdout",
     "output_type": "stream",
     "text": [
      "Unnamed: 0    12.000000\n",
      "alph1          0.940027\n",
      "alph2         -0.909311\n",
      "alph3          0.554207\n",
      "bp           -19.570920\n",
      "bf             1.912652\n",
      "alph4          0.000000\n",
      "dtype: float64\n"
     ]
    }
   ],
   "source": [
    "# Cargamos los datos\n",
    "base_B = pd.read_csv(\"MC_save.csv\")\n",
    "print(pd.DataFrame.median(base_B))"
   ]
  },
  {
   "cell_type": "markdown",
   "id": "f98d712a",
   "metadata": {},
   "source": [
    "### Histograma con la distribución de los estimadores para cada coeficiente."
   ]
  },
  {
   "cell_type": "code",
   "execution_count": 213,
   "id": "88f48749",
   "metadata": {},
   "outputs": [],
   "source": [
    "base_B.drop(base_B.columns[0], axis=1, inplace=True)"
   ]
  },
  {
   "cell_type": "code",
   "execution_count": 214,
   "id": "31debd32",
   "metadata": {},
   "outputs": [
    {
     "data": {
      "text/plain": [
       "array([[<AxesSubplot:title={'center':'alph1'}>,\n",
       "        <AxesSubplot:title={'center':'alph2'}>],\n",
       "       [<AxesSubplot:title={'center':'alph3'}>,\n",
       "        <AxesSubplot:title={'center':'bp'}>],\n",
       "       [<AxesSubplot:title={'center':'bf'}>,\n",
       "        <AxesSubplot:title={'center':'alph4'}>]], dtype=object)"
      ]
     },
     "execution_count": 214,
     "metadata": {},
     "output_type": "execute_result"
    },
    {
     "data": {
      "image/png": "[encoded data removed]",
      "text/plain": [
       "<Figure size 576x576 with 6 Axes>"
      ]
     },
     "metadata": {
      "needs_background": "light"
     },
     "output_type": "display_data"
    }
   ],
   "source": [
    "base_B.hist(layout=(3,2),figsize=(8,8),grid=False,color=\"#800080\",zorder=2, rwidth=0.9)"
   ]
  },
  {
   "cell_type": "markdown",
   "id": "080e9bd3",
   "metadata": {},
   "source": [
    "## Fin "
   ]
  }
 ],
 "metadata": {
  "kernelspec": {
   "display_name": "Python 3 (ipykernel)",
   "language": "python",
   "name": "python3"
  },
  "language_info": {
   "codemirror_mode": {
    "name": "ipython",
    "version": 3
   },
   "file_extension": ".py",
   "mimetype": "text/x-python",
   "name": "python",
   "nbconvert_exporter": "python",
   "pygments_lexer": "ipython3",
   "version": "3.9.12"
  }
 },
 "nbformat": 4,
 "nbformat_minor": 5
}
